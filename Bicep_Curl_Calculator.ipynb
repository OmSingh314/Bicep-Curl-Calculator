{
 "cells": [
  {
   "cell_type": "code",
   "execution_count": 2,
   "id": "bdb5eec4-06f2-40ca-bfd7-4044fef9f5c7",
   "metadata": {},
   "outputs": [
    {
     "name": "stdout",
     "output_type": "stream",
     "text": [
      "Requirement already satisfied: mediapipe in c:\\users\\ombag\\onedrive\\desktop\\render_project\\myenv\\lib\\site-packages (0.10.14)\n",
      "Requirement already satisfied: opencv-python in c:\\users\\ombag\\onedrive\\desktop\\render_project\\myenv\\lib\\site-packages (4.10.0.84)\n",
      "Requirement already satisfied: absl-py in c:\\users\\ombag\\onedrive\\desktop\\render_project\\myenv\\lib\\site-packages (from mediapipe) (2.1.0)\n",
      "Requirement already satisfied: attrs>=19.1.0 in c:\\users\\ombag\\onedrive\\desktop\\render_project\\myenv\\lib\\site-packages (from mediapipe) (24.2.0)\n",
      "Requirement already satisfied: flatbuffers>=2.0 in c:\\users\\ombag\\onedrive\\desktop\\render_project\\myenv\\lib\\site-packages (from mediapipe) (24.3.25)\n",
      "Requirement already satisfied: jax in c:\\users\\ombag\\onedrive\\desktop\\render_project\\myenv\\lib\\site-packages (from mediapipe) (0.4.35)\n",
      "Requirement already satisfied: jaxlib in c:\\users\\ombag\\onedrive\\desktop\\render_project\\myenv\\lib\\site-packages (from mediapipe) (0.4.35)\n",
      "Requirement already satisfied: matplotlib in c:\\users\\ombag\\onedrive\\desktop\\render_project\\myenv\\lib\\site-packages (from mediapipe) (3.9.2)\n",
      "Requirement already satisfied: numpy in c:\\users\\ombag\\onedrive\\desktop\\render_project\\myenv\\lib\\site-packages (from mediapipe) (2.1.2)\n",
      "Requirement already satisfied: opencv-contrib-python in c:\\users\\ombag\\onedrive\\desktop\\render_project\\myenv\\lib\\site-packages (from mediapipe) (4.10.0.84)\n",
      "Requirement already satisfied: protobuf<5,>=4.25.3 in c:\\users\\ombag\\onedrive\\desktop\\render_project\\myenv\\lib\\site-packages (from mediapipe) (4.25.5)\n",
      "Requirement already satisfied: sounddevice>=0.4.4 in c:\\users\\ombag\\onedrive\\desktop\\render_project\\myenv\\lib\\site-packages (from mediapipe) (0.5.1)\n",
      "Requirement already satisfied: CFFI>=1.0 in c:\\users\\ombag\\onedrive\\desktop\\render_project\\myenv\\lib\\site-packages (from sounddevice>=0.4.4->mediapipe) (1.17.1)\n",
      "Requirement already satisfied: ml-dtypes>=0.4.0 in c:\\users\\ombag\\onedrive\\desktop\\render_project\\myenv\\lib\\site-packages (from jax->mediapipe) (0.5.0)\n",
      "Requirement already satisfied: opt-einsum in c:\\users\\ombag\\onedrive\\desktop\\render_project\\myenv\\lib\\site-packages (from jax->mediapipe) (3.4.0)\n",
      "Requirement already satisfied: scipy>=1.10 in c:\\users\\ombag\\onedrive\\desktop\\render_project\\myenv\\lib\\site-packages (from jax->mediapipe) (1.14.1)\n",
      "Requirement already satisfied: contourpy>=1.0.1 in c:\\users\\ombag\\onedrive\\desktop\\render_project\\myenv\\lib\\site-packages (from matplotlib->mediapipe) (1.3.0)\n",
      "Requirement already satisfied: cycler>=0.10 in c:\\users\\ombag\\onedrive\\desktop\\render_project\\myenv\\lib\\site-packages (from matplotlib->mediapipe) (0.12.1)\n",
      "Requirement already satisfied: fonttools>=4.22.0 in c:\\users\\ombag\\onedrive\\desktop\\render_project\\myenv\\lib\\site-packages (from matplotlib->mediapipe) (4.54.1)\n",
      "Requirement already satisfied: kiwisolver>=1.3.1 in c:\\users\\ombag\\onedrive\\desktop\\render_project\\myenv\\lib\\site-packages (from matplotlib->mediapipe) (1.4.7)\n",
      "Requirement already satisfied: packaging>=20.0 in c:\\users\\ombag\\onedrive\\desktop\\render_project\\myenv\\lib\\site-packages (from matplotlib->mediapipe) (24.1)\n",
      "Requirement already satisfied: pillow>=8 in c:\\users\\ombag\\onedrive\\desktop\\render_project\\myenv\\lib\\site-packages (from matplotlib->mediapipe) (11.0.0)\n",
      "Requirement already satisfied: pyparsing>=2.3.1 in c:\\users\\ombag\\onedrive\\desktop\\render_project\\myenv\\lib\\site-packages (from matplotlib->mediapipe) (3.2.0)\n",
      "Requirement already satisfied: python-dateutil>=2.7 in c:\\users\\ombag\\onedrive\\desktop\\render_project\\myenv\\lib\\site-packages (from matplotlib->mediapipe) (2.9.0.post0)\n",
      "Requirement already satisfied: pycparser in c:\\users\\ombag\\onedrive\\desktop\\render_project\\myenv\\lib\\site-packages (from CFFI>=1.0->sounddevice>=0.4.4->mediapipe) (2.22)\n",
      "Requirement already satisfied: six>=1.5 in c:\\users\\ombag\\onedrive\\desktop\\render_project\\myenv\\lib\\site-packages (from python-dateutil>=2.7->matplotlib->mediapipe) (1.16.0)\n",
      "Note: you may need to restart the kernel to use updated packages.\n"
     ]
    },
    {
     "name": "stderr",
     "output_type": "stream",
     "text": [
      "\n",
      "[notice] A new release of pip is available: 24.0 -> 24.3.1\n",
      "[notice] To update, run: python.exe -m pip install --upgrade pip\n"
     ]
    }
   ],
   "source": [
    "%pip install mediapipe opencv-python"
   ]
  },
  {
   "cell_type": "code",
   "execution_count": null,
   "id": "5617cddd-7a85-4084-aa67-721926788869",
   "metadata": {},
   "outputs": [],
   "source": [
    "import cv2\n",
    "import mediapipe as mp\n",
    "import numpy as np\n",
    "mp_drawing = mp.solutions.drawing_utils\n",
    "mp_pose = mp.solutions.pose"
   ]
  },
  {
   "cell_type": "code",
   "execution_count": 81,
   "id": "55f743b2-8fd1-49a0-9cdf-b5668d737089",
   "metadata": {},
   "outputs": [],
   "source": [
    "def calculateAngle(a,b,c):\n",
    "    a = np.array(a)\n",
    "    b = np.array(b)\n",
    "    c = np.array(c)\n",
    "\n",
    "    radians = np.arctan2((b[1]-a[1]), b[0]-a[0]) - np.arctan2((b[1]-c[1]), b[0]-c[0])\n",
    "    angle = np.abs(radians*180.0/np.pi)\n",
    "\n",
    "    if angle > 180.0:\n",
    "        angle = 360.0 - angle\n",
    "\n",
    "    return angle"
   ]
  },
  {
   "cell_type": "code",
   "execution_count": null,
   "id": "4a8b3b84-141a-4d6e-beaa-09c248bb4488",
   "metadata": {},
   "outputs": [],
   "source": [
    "cap = cv2.VideoCapture(0)\n",
    "\n",
    "counter = 0\n",
    "stage = None\n",
    "\n",
    "with mp_pose.Pose(min_detection_confidence=0.5, min_tracking_confidence=0.5) as pose:\n",
    "    while cap.isOpened():\n",
    "        ret, frame = cap.read()\n",
    "\n",
    "        image = cv2.cvtColor(frame, cv2.COLOR_BGR2RGB)\n",
    "        image.flags.writeable = False\n",
    "        \n",
    "        result = pose.process(image)\n",
    "        \n",
    "        image.flags.writeable = True\n",
    "        image = cv2.cvtColor(image, cv2.COLOR_RGB2BGR)\n",
    "\n",
    "        if result.pose_landmarks:\n",
    "            try:\n",
    "                landmarks = result.pose_landmarks.landmark\n",
    "                \n",
    "                shoulder = [landmarks[mp_pose.PoseLandmark.LEFT_SHOULDER.value].x, landmarks[mp_pose.PoseLandmark.LEFT_SHOULDER.value].y]\n",
    "                elbow = [landmarks[mp_pose.PoseLandmark.LEFT_ELBOW.value].x, landmarks[mp_pose.PoseLandmark.LEFT_ELBOW.value].y]\n",
    "                wrist = [landmarks[mp_pose.PoseLandmark.LEFT_WRIST.value].x, landmarks[mp_pose.PoseLandmark.LEFT_WRIST.value].y]\n",
    "\n",
    "                angle = calculateAngle(shoulder, elbow, wrist)\n",
    "\n",
    "                cv2.putText(image, str(angle),\n",
    "                           tuple(np.multiply(elbow,[640,480]).astype(int)),\n",
    "                           cv2.FONT_HERSHEY_SIMPLEX, 0.5, (225,225,225), 2, cv2.LINE_AA)\n",
    "\n",
    "\n",
    "                if angle > 130:\n",
    "                    stage = \"down\"\n",
    "                if angle < 55 and stage == \"down\":\n",
    "                    stage = \"up\"\n",
    "                    counter += 1\n",
    "                    print(counter)\n",
    "                \n",
    "            except Exception as e:\n",
    "                print(f\"Error: {e}\")\n",
    "\n",
    "        cv2.rectangle(image, (0,0), (255,73), (245,117,16), -1)\n",
    "        \n",
    "        cv2.putText(image, 'Reps:', (15,12),\n",
    "                     cv2.FONT_HERSHEY_SIMPLEX, 0.5, (0,0,0), 1, cv2.LINE_AA)\n",
    "        cv2.putText(image, str(counter), (10,60),\n",
    "                     cv2.FONT_HERSHEY_SIMPLEX, 1.5, (225,225,225), 2, cv2.LINE_AA)\n",
    "        \n",
    "        cv2.putText(image, 'Stage:', (90,12),\n",
    "                     cv2.FONT_HERSHEY_SIMPLEX, 0.5, (0,0,0), 1, cv2.LINE_AA)\n",
    "        cv2.putText(image, stage, (90,60),\n",
    "                     cv2.FONT_HERSHEY_SIMPLEX, 1.5, (225,225,225), 2, cv2.LINE_AA)\n",
    "        \n",
    "        mp_drawing.draw_landmarks(image, result.pose_landmarks,  mp_pose.POSE_CONNECTIONS,\n",
    "                                  mp_drawing.DrawingSpec(color=(0,0,225), thickness=3, circle_radius=2), #for joints\n",
    "                                  mp_drawing.DrawingSpec(color=(0,255,0), thickness=2, circle_radius=2), #for connections\n",
    "                                 )\n",
    "        cv2.imshow('Make sure your left hand is in the frame!', image)\n",
    "        key = cv2.waitKey(10)\n",
    "        if key == 27:\n",
    "            break\n",
    "cap.release()\n",
    "cv2.destroyAllWindows()"
   ]
  }
 ],
 "metadata": {
  "kernelspec": {
   "display_name": "myenv",
   "language": "python",
   "name": "python3"
  },
  "language_info": {
   "codemirror_mode": {
    "name": "ipython",
    "version": 3
   },
   "file_extension": ".py",
   "mimetype": "text/x-python",
   "name": "python",
   "nbconvert_exporter": "python",
   "pygments_lexer": "ipython3",
   "version": "3.11.9"
  }
 },
 "nbformat": 4,
 "nbformat_minor": 5
}
